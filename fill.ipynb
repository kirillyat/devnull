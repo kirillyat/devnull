{
 "cells": [
  {
   "cell_type": "markdown",
   "metadata": {},
   "source": [
    "## Лабораторная 3.1 \n",
    "### Яценко Кирилл\n",
    "#### DELIMETR = \"|\"\n"
   ]
  },
  {
   "cell_type": "markdown",
   "metadata": {},
   "source": [
    "### Импортирую необходимые пакeты для генерации бредо-данных\n",
    "<a heref = 'mimesis.readthedocs.io'>Mimesis</a>"
   ]
  },
  {
   "cell_type": "code",
   "execution_count": 1,
   "metadata": {},
   "outputs": [],
   "source": [
    "from mimesis import Generic, Address, Text, Person\n",
    "from random import randint"
   ]
  },
  {
   "cell_type": "code",
   "execution_count": 9,
   "metadata": {},
   "outputs": [],
   "source": [
    "# Количество данных(строк)\n",
    "\n",
    "clients_size = 10000000\n",
    "owners_size = 1000000\n",
    "apartaments_size = 20000000\n",
    "bookings_size = 100000000"
   ]
  },
  {
   "cell_type": "code",
   "execution_count": 3,
   "metadata": {},
   "outputs": [],
   "source": [
    "# Файлы для вывода\n",
    "\n",
    "clients_file = open('clients.csv', 'w')\n",
    "owners_file = open('owners.csv', 'w')\n",
    "apartaments_file = open('apartaments.csv', 'w')\n",
    "bookings_file = open('bookings.csv', 'w')"
   ]
  },
  {
   "cell_type": "markdown",
   "metadata": {},
   "source": [
    "## Генерируем 10 000 000 клиентов"
   ]
  },
  {
   "cell_type": "code",
   "execution_count": 4,
   "metadata": {},
   "outputs": [],
   "source": [
    "p = Person('ru')\n",
    "\n",
    "for i in range(clients_size):\n",
    "    clients_file.write('{0}|{{\"phone\":\"{1}\", \"email\":\"{2}\"}}\\n'.format(p.full_name(),p.telephone(),p.email()))\n",
    "    \n",
    "clients_file.close()"
   ]
  },
  {
   "cell_type": "code",
   "execution_count": 6,
   "metadata": {},
   "outputs": [],
   "source": [
    "# Убираем лишние '&nbsp;'\n",
    "import fileinput\n",
    "\n",
    "with fileinput.FileInput('clients.csv', inplace=True, backup='.bak') as file:\n",
    "    for line in file:\n",
    "        print(line.replace('&nbsp;', ''), end='')"
   ]
  },
  {
   "cell_type": "markdown",
   "metadata": {},
   "source": [
    "##  Генерируем 1 000 000 Владельцев апартаментов"
   ]
  },
  {
   "cell_type": "code",
   "execution_count": 5,
   "metadata": {},
   "outputs": [],
   "source": [
    "p = Person('ru')\n",
    "\n",
    "for i in range(owners_size):\n",
    "    owners_file.write('{0}|{{\"phone\":\"{1}\", \"email\":\"{2}\"}}\\n'.format(p.full_name(),p.telephone(),p.email()))\n",
    "    \n",
    "owners_file.close()"
   ]
  },
  {
   "cell_type": "code",
   "execution_count": 7,
   "metadata": {},
   "outputs": [],
   "source": [
    "# Убираем лишние '&nbsp;'\n",
    "import fileinput\n",
    "\n",
    "with fileinput.FileInput('owners.csv', inplace=True, backup='.bak') as file:\n",
    "    for line in file:\n",
    "        print(line.replace('&nbsp;', ''), end='')"
   ]
  },
  {
   "cell_type": "markdown",
   "metadata": {},
   "source": [
    "## Генерируем 20 000 000 Апартаментов"
   ]
  },
  {
   "cell_type": "code",
   "execution_count": 12,
   "metadata": {},
   "outputs": [],
   "source": [
    "# Функция для генерации массива отзывов\n",
    "def reviews():\n",
    "    R = Text('ru')\n",
    "    n = randint(0, 50)\n",
    "    a = ''\n",
    "    for _ in range(n):\n",
    "        a += '\"' + R.text(randint(1,2)) + '\", '\n",
    "    a = '{' + a + '\"' + R.text(randint(1,2)) + '\"}' \n",
    "    return a"
   ]
  },
  {
   "cell_type": "code",
   "execution_count": null,
   "metadata": {},
   "outputs": [],
   "source": [
    "a = Address('ru')\n",
    "t = Text('ru')\n",
    "\n",
    "\n",
    "for i in range(apartaments_size):\n",
    "    apartaments_file.write(\"'{0}'|{1}|'{2}'|'{3}'\\n\".format(randint(1,owners_size), t.text(1), randint(25, 500), reviews()))\n",
    "\n",
    "apartaments_file.close()"
   ]
  },
  {
   "cell_type": "markdown",
   "metadata": {},
   "source": [
    "## Генерируем 100 000 000 Бронирований"
   ]
  },
  {
   "cell_type": "code",
   "execution_count": null,
   "metadata": {},
   "outputs": [],
   "source": []
  },
  {
   "cell_type": "code",
   "execution_count": null,
   "metadata": {},
   "outputs": [],
   "source": []
  },
  {
   "cell_type": "code",
   "execution_count": null,
   "metadata": {},
   "outputs": [],
   "source": []
  },
  {
   "cell_type": "code",
   "execution_count": null,
   "metadata": {},
   "outputs": [],
   "source": []
  },
  {
   "cell_type": "code",
   "execution_count": null,
   "metadata": {},
   "outputs": [],
   "source": []
  },
  {
   "cell_type": "code",
   "execution_count": null,
   "metadata": {},
   "outputs": [],
   "source": []
  },
  {
   "cell_type": "code",
   "execution_count": null,
   "metadata": {},
   "outputs": [],
   "source": []
  },
  {
   "cell_type": "code",
   "execution_count": null,
   "metadata": {},
   "outputs": [],
   "source": []
  },
  {
   "cell_type": "code",
   "execution_count": null,
   "metadata": {},
   "outputs": [],
   "source": []
  },
  {
   "cell_type": "code",
   "execution_count": null,
   "metadata": {},
   "outputs": [],
   "source": []
  },
  {
   "cell_type": "code",
   "execution_count": null,
   "metadata": {},
   "outputs": [],
   "source": []
  },
  {
   "cell_type": "code",
   "execution_count": null,
   "metadata": {},
   "outputs": [],
   "source": []
  },
  {
   "cell_type": "code",
   "execution_count": null,
   "metadata": {},
   "outputs": [],
   "source": []
  },
  {
   "cell_type": "code",
   "execution_count": null,
   "metadata": {},
   "outputs": [],
   "source": []
  },
  {
   "cell_type": "code",
   "execution_count": null,
   "metadata": {},
   "outputs": [],
   "source": []
  },
  {
   "cell_type": "code",
   "execution_count": null,
   "metadata": {},
   "outputs": [],
   "source": []
  },
  {
   "cell_type": "code",
   "execution_count": null,
   "metadata": {},
   "outputs": [],
   "source": []
  },
  {
   "cell_type": "code",
   "execution_count": null,
   "metadata": {},
   "outputs": [],
   "source": []
  }
 ],
 "metadata": {
  "kernelspec": {
   "display_name": "Python 3",
   "language": "python",
   "name": "python3"
  },
  "language_info": {
   "codemirror_mode": {
    "name": "ipython",
    "version": 3
   },
   "file_extension": ".py",
   "mimetype": "text/x-python",
   "name": "python",
   "nbconvert_exporter": "python",
   "pygments_lexer": "ipython3",
   "version": "3.7.6"
  }
 },
 "nbformat": 4,
 "nbformat_minor": 4
}
